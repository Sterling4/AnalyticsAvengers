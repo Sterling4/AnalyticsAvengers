{
 "cells": [
  {
   "cell_type": "code",
   "execution_count": null,
   "metadata": {},
   "outputs": [],
   "source": [
    "import pandas as pd\n",
    "from sklearn.datasets import load_iris\n",
    "\n",
    "iris = load_iris()\n",
    "\n",
    "iris\n",
    "\n",
    "iris.columns\n",
    "\n",
    "Iris_set = pd.read_csv(\"iris.csv\", index_col=\"number\")\n",
    "\n",
    "Iris_set.columns\n",
    "\n",
    "Iris_set.head()\n",
    "\n",
    "Iris_set.tail(1)\n",
    "\n",
    "Iris_set.describe()\n"
   ]
  }
 ],
 "metadata": {
  "language_info": {
   "name": "python"
  }
 },
 "nbformat": 4,
 "nbformat_minor": 2
}
